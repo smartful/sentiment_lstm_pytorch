{
 "cells": [
  {
   "cell_type": "markdown",
   "id": "c8b28a23",
   "metadata": {},
   "source": [
    "# Analyse de sentiments binaires avec un LSTM implémenté en Pytorch"
   ]
  },
  {
   "cell_type": "code",
   "execution_count": 2,
   "id": "9e7bde3c",
   "metadata": {},
   "outputs": [
    {
     "name": "stdout",
     "output_type": "stream",
     "text": [
      "PyTorch version : 2.7.0+cu118\n"
     ]
    }
   ],
   "source": [
    "import torch\n",
    "import torch.nn as nn\n",
    "from torch.utils.data import DataLoader\n",
    "from datasets import load_dataset\n",
    "import tiktoken\n",
    "from tqdm.auto import tqdm\n",
    "from my_helper_functions import accuracy_fn, train_step, test_step, plot_training_data\n",
    "\n",
    "print(f\"PyTorch version : {torch.__version__}\")"
   ]
  },
  {
   "cell_type": "markdown",
   "id": "ad27b973",
   "metadata": {},
   "source": [
    "## Constantes"
   ]
  },
  {
   "cell_type": "markdown",
   "id": "8f7363a1",
   "metadata": {},
   "source": [
    "### On utilise la carte graphique (le GPU)"
   ]
  },
  {
   "cell_type": "code",
   "execution_count": 3,
   "id": "d17843a5",
   "metadata": {},
   "outputs": [
    {
     "name": "stdout",
     "output_type": "stream",
     "text": [
      "cuda\n"
     ]
    }
   ],
   "source": [
    "DEVICE = torch.device(\"cuda\") if torch.cuda.is_available() else torch.device(\"cpu\")\n",
    "print(DEVICE)"
   ]
  },
  {
   "cell_type": "code",
   "execution_count": 4,
   "id": "9d6abddd",
   "metadata": {},
   "outputs": [],
   "source": [
    "MAX_LENGTH = 512\n",
    "RANDOM_STATE = 42\n",
    "BATCH_SIZE = 32"
   ]
  },
  {
   "cell_type": "markdown",
   "id": "9b60cfd9",
   "metadata": {},
   "source": [
    "## Obtenir les data de IMDB"
   ]
  },
  {
   "cell_type": "code",
   "execution_count": 5,
   "id": "e41cdbbb",
   "metadata": {},
   "outputs": [
    {
     "name": "stdout",
     "output_type": "stream",
     "text": [
      "{'train': (25000, 2), 'test': (25000, 2), 'unsupervised': (50000, 2)}\n"
     ]
    }
   ],
   "source": [
    "imdb = load_dataset(\"imdb\")\n",
    "print(imdb.shape)"
   ]
  },
  {
   "cell_type": "code",
   "execution_count": 6,
   "id": "3672b493",
   "metadata": {},
   "outputs": [
    {
     "data": {
      "text/plain": [
       "(['I rented I AM CURIOUS-YELLOW from my video store because of all the controversy that surrounded it when it was first released in 1967. I also heard that at first it was seized by U.S. customs if it ever tried to enter this country, therefore being a fan of films considered \"controversial\" I really had to see this for myself.<br /><br />The plot is centered around a young Swedish drama student named Lena who wants to learn everything she can about life. In particular she wants to focus her attentions to making some sort of documentary on what the average Swede thought about certain political issues such as the Vietnam War and race issues in the United States. In between asking politicians and ordinary denizens of Stockholm about their opinions on politics, she has sex with her drama teacher, classmates, and married men.<br /><br />What kills me about I AM CURIOUS-YELLOW is that 40 years ago, this was considered pornographic. Really, the sex and nudity scenes are few and far between, even then it\\'s not shot like some cheaply made porno. While my countrymen mind find it shocking, in reality sex and nudity are a major staple in Swedish cinema. Even Ingmar Bergman, arguably their answer to good old boy John Ford, had sex scenes in his films.<br /><br />I do commend the filmmakers for the fact that any sex shown in the film is shown for artistic purposes rather than just to shock people and make money to be shown in pornographic theaters in America. I AM CURIOUS-YELLOW is a good film for anyone wanting to study the meat and potatoes (no pun intended) of Swedish cinema. But really, this film doesn\\'t have much of a plot.',\n",
       "  '\"I Am Curious: Yellow\" is a risible and pretentious steaming pile. It doesn\\'t matter what one\\'s political views are because this film can hardly be taken seriously on any level. As for the claim that frontal male nudity is an automatic NC-17, that isn\\'t true. I\\'ve seen R-rated films with male nudity. Granted, they only offer some fleeting views, but where are the R-rated films with gaping vulvas and flapping labia? Nowhere, because they don\\'t exist. The same goes for those crappy cable shows: schlongs swinging in the breeze but not a clitoris in sight. And those pretentious indie movies like The Brown Bunny, in which we\\'re treated to the site of Vincent Gallo\\'s throbbing johnson, but not a trace of pink visible on Chloe Sevigny. Before crying (or implying) \"double-standard\" in matters of nudity, the mentally obtuse should take into account one unavoidably obvious anatomical difference between men and women: there are no genitals on display when actresses appears nude, and the same cannot be said for a man. In fact, you generally won\\'t see female genitals in an American film in anything short of porn or explicit erotica. This alleged double-standard is less a double standard than an admittedly depressing ability to come to terms culturally with the insides of women\\'s bodies.'],\n",
       " [0, 0])"
      ]
     },
     "execution_count": 6,
     "metadata": {},
     "output_type": "execute_result"
    }
   ],
   "source": [
    "text, label = imdb[\"train\"][\"text\"], imdb[\"train\"][\"label\"]\n",
    "text[:2], label[:2]"
   ]
  },
  {
   "cell_type": "markdown",
   "id": "11369a3c",
   "metadata": {},
   "source": [
    "## On adapte la data\n",
    "\n",
    "- Création de la cross validation data\n",
    "- Mise en forme de la data sous forme d'un tableau de tuple : (texte, label)"
   ]
  },
  {
   "cell_type": "markdown",
   "id": "80156557",
   "metadata": {},
   "source": [
    "On réalise de nombreux ajustement pour améliorer le modèle.\n",
    "\n",
    "Par conséquent on risque de créer insconsciement de l'overfitting sur les données de tests.\n",
    "\n",
    "Pour palier à ce risque on utilise on crée une troisième section de data, la cross validation data à partir de 10% des données d'entrainement."
   ]
  },
  {
   "cell_type": "code",
   "execution_count": 7,
   "id": "e550cb9c",
   "metadata": {},
   "outputs": [
    {
     "name": "stdout",
     "output_type": "stream",
     "text": [
      "train : 22500 | valid : 2500\n"
     ]
    }
   ],
   "source": [
    "train_split = imdb[\"train\"].train_test_split(test_size=0.1, seed=RANDOM_STATE)\n",
    "train_data = list(zip(train_split[\"train\"][\"text\"], train_split[\"train\"][\"label\"]))\n",
    "valid_data = list(zip(train_split[\"test\"][\"text\"],  train_split[\"test\"][\"label\"]))\n",
    "print(f\"train : {len(train_data)} | valid : {len(valid_data)}\")\n"
   ]
  },
  {
   "cell_type": "code",
   "execution_count": 8,
   "id": "934eb410",
   "metadata": {},
   "outputs": [
    {
     "data": {
      "text/plain": [
       "[(\"With these people faking so many shots, using old footage, and gassing animals to get them out, not to mention that some of the scenes were filmed on a created set with actors, what's to believe? Old film of countries is nice, but the animal abuse and degradation of natives is painful to watch in these films. I know, racism is OK in these old films, but there is more to that to make this couple lose credibility. Portrayed as fliers, they never flew their planes, Martin Johnson was an ex-vaudevillian, used friends like Jack London for financial gain while stiffing them of royalties, denying his wife's apparent depression, using her as a cute prop, all this makes these films unbearable. They were by no means the first to travel to these lands, or the first to write about them. He was OK as a filmmaker and photographer, but that's about it.\",\n",
       "  0),\n",
       " (\"I don't know the stars, or modern Chinese teenage music - but I do know a thoroughly entertaining movie when I see one.<br /><br />Kung Fu Dunk is pure Hollywood in its values - it's played for laughs, for love, and is a great blend of Kung Fu and basketball.<br /><br />Everybody looks like they had a lot of fun making this - the production values are excellent - and modern China looks glossier than Los Angeles here.<br /><br />The plot of the abandoned orphan who grows up in a kung fu school only to be kicked out and then discover superstardom as a basketball play (and love and more etc;) is great - this is fresh, fun, and immensely entertaining.<br /><br />With great action and good dialogue this is one simply to enjoy - for all ages - and for our money was one of the best family movies we're seen in a long time.<br /><br />Please ignore the negative reviews and give Dunk a chance - we were really glad we did - a GOOD sports comedy movie.\",\n",
       "  1)]"
      ]
     },
     "execution_count": 8,
     "metadata": {},
     "output_type": "execute_result"
    }
   ],
   "source": [
    "train_data[:2]"
   ]
  },
  {
   "cell_type": "markdown",
   "id": "c4f81b98",
   "metadata": {},
   "source": [
    "## Tokenisation des données textuels\n",
    "\n",
    "On en profite aussi pour définir la valeur de l'identifiant du PAD"
   ]
  },
  {
   "cell_type": "code",
   "execution_count": 9,
   "id": "d954f77e",
   "metadata": {},
   "outputs": [],
   "source": [
    "tokenizer = tiktoken.get_encoding(\"o200k_base\")\n",
    "SPECIAL_EOT = \"<|endoftext|>\"\n",
    "PAD_ID = tokenizer.encode(SPECIAL_EOT, allowed_special={SPECIAL_EOT})[0]"
   ]
  },
  {
   "cell_type": "code",
   "execution_count": 10,
   "id": "a5c959ce",
   "metadata": {},
   "outputs": [],
   "source": [
    "def encode(text):\n",
    "    token_ids = tokenizer.encode(text)[:MAX_LENGTH]\n",
    "    return token_ids, len(token_ids)"
   ]
  },
  {
   "cell_type": "code",
   "execution_count": 11,
   "id": "b9fd64c1",
   "metadata": {},
   "outputs": [],
   "source": [
    "train_pairs = [(encode(sequence)) + (label,) for sequence, label in train_data]  # (token_ids, length, label)\n",
    "valid_pairs = [(encode(sequence)) + (label,) for sequence, label in valid_data]\n"
   ]
  },
  {
   "cell_type": "code",
   "execution_count": 12,
   "id": "66484a35",
   "metadata": {},
   "outputs": [
    {
     "data": {
      "text/plain": [
       "[([2886,\n",
       "   1879,\n",
       "   1665,\n",
       "   285,\n",
       "   5016,\n",
       "   813,\n",
       "   1991,\n",
       "   25944,\n",
       "   11,\n",
       "   2360,\n",
       "   2890,\n",
       "   44065,\n",
       "   11,\n",
       "   326,\n",
       "   329,\n",
       "   31297,\n",
       "   15022,\n",
       "   316,\n",
       "   717,\n",
       "   1373,\n",
       "   842,\n",
       "   11,\n",
       "   625,\n",
       "   316,\n",
       "   8633,\n",
       "   484,\n",
       "   1236,\n",
       "   328,\n",
       "   290,\n",
       "   27106,\n",
       "   1504,\n",
       "   84218,\n",
       "   402,\n",
       "   261,\n",
       "   5371,\n",
       "   920,\n",
       "   483,\n",
       "   32406,\n",
       "   11,\n",
       "   29400,\n",
       "   316,\n",
       "   6423,\n",
       "   30,\n",
       "   14583,\n",
       "   5586,\n",
       "   328,\n",
       "   8981,\n",
       "   382,\n",
       "   7403,\n",
       "   11,\n",
       "   889,\n",
       "   290,\n",
       "   13983,\n",
       "   21562,\n",
       "   326,\n",
       "   83533,\n",
       "   328,\n",
       "   140305,\n",
       "   382,\n",
       "   39245,\n",
       "   316,\n",
       "   5621,\n",
       "   306,\n",
       "   1879,\n",
       "   16176,\n",
       "   13,\n",
       "   357,\n",
       "   1761,\n",
       "   11,\n",
       "   56330,\n",
       "   382,\n",
       "   11339,\n",
       "   306,\n",
       "   1879,\n",
       "   2890,\n",
       "   16176,\n",
       "   11,\n",
       "   889,\n",
       "   1354,\n",
       "   382,\n",
       "   945,\n",
       "   316,\n",
       "   484,\n",
       "   316,\n",
       "   1520,\n",
       "   495,\n",
       "   7167,\n",
       "   12577,\n",
       "   69078,\n",
       "   13,\n",
       "   9135,\n",
       "   371,\n",
       "   19630,\n",
       "   472,\n",
       "   285,\n",
       "   62539,\n",
       "   11,\n",
       "   1023,\n",
       "   3779,\n",
       "   60633,\n",
       "   1043,\n",
       "   41666,\n",
       "   11,\n",
       "   17401,\n",
       "   20695,\n",
       "   673,\n",
       "   448,\n",
       "   513,\n",
       "   181037,\n",
       "   3525,\n",
       "   85,\n",
       "   109469,\n",
       "   11,\n",
       "   2061,\n",
       "   5664,\n",
       "   1299,\n",
       "   10874,\n",
       "   9741,\n",
       "   395,\n",
       "   6790,\n",
       "   11621,\n",
       "   2049,\n",
       "   48176,\n",
       "   289,\n",
       "   1373,\n",
       "   328,\n",
       "   158752,\n",
       "   11,\n",
       "   89007,\n",
       "   1232,\n",
       "   188676,\n",
       "   36582,\n",
       "   27288,\n",
       "   11,\n",
       "   2360,\n",
       "   1335,\n",
       "   472,\n",
       "   261,\n",
       "   23172,\n",
       "   5892,\n",
       "   11,\n",
       "   722,\n",
       "   495,\n",
       "   4787,\n",
       "   1879,\n",
       "   16176,\n",
       "   180365,\n",
       "   13,\n",
       "   3164,\n",
       "   1504,\n",
       "   656,\n",
       "   860,\n",
       "   4748,\n",
       "   290,\n",
       "   1577,\n",
       "   316,\n",
       "   6410,\n",
       "   316,\n",
       "   1879,\n",
       "   26518,\n",
       "   11,\n",
       "   503,\n",
       "   290,\n",
       "   1577,\n",
       "   316,\n",
       "   5067,\n",
       "   1078,\n",
       "   1373,\n",
       "   13,\n",
       "   1679,\n",
       "   673,\n",
       "   11339,\n",
       "   472,\n",
       "   261,\n",
       "   99146,\n",
       "   326,\n",
       "   37868,\n",
       "   11,\n",
       "   889,\n",
       "   10954,\n",
       "   1078,\n",
       "   480,\n",
       "   13],\n",
       "  183,\n",
       "  0),\n",
       " ([40,\n",
       "   4128,\n",
       "   1761,\n",
       "   290,\n",
       "   13701,\n",
       "   11,\n",
       "   503,\n",
       "   6809,\n",
       "   13999,\n",
       "   60505,\n",
       "   5383,\n",
       "   533,\n",
       "   889,\n",
       "   357,\n",
       "   621,\n",
       "   1761,\n",
       "   261,\n",
       "   33413,\n",
       "   32676,\n",
       "   8249,\n",
       "   1261,\n",
       "   357,\n",
       "   1921,\n",
       "   1001,\n",
       "   30502,\n",
       "   1697,\n",
       "   58896,\n",
       "   1697,\n",
       "   11241,\n",
       "   92884,\n",
       "   24885,\n",
       "   87210,\n",
       "   382,\n",
       "   14147,\n",
       "   25193,\n",
       "   306,\n",
       "   1617,\n",
       "   4824,\n",
       "   533,\n",
       "   4275,\n",
       "   10518,\n",
       "   395,\n",
       "   92683,\n",
       "   11,\n",
       "   395,\n",
       "   3047,\n",
       "   11,\n",
       "   326,\n",
       "   382,\n",
       "   261,\n",
       "   2212,\n",
       "   25306,\n",
       "   328,\n",
       "   57124,\n",
       "   24885,\n",
       "   326,\n",
       "   28675,\n",
       "   30502,\n",
       "   1697,\n",
       "   58896,\n",
       "   1697,\n",
       "   11241,\n",
       "   134351,\n",
       "   8224,\n",
       "   1299,\n",
       "   1023,\n",
       "   1458,\n",
       "   261,\n",
       "   3261,\n",
       "   328,\n",
       "   2827,\n",
       "   4137,\n",
       "   495,\n",
       "   533,\n",
       "   290,\n",
       "   7142,\n",
       "   4824,\n",
       "   553,\n",
       "   7994,\n",
       "   533,\n",
       "   326,\n",
       "   6809,\n",
       "   8114,\n",
       "   8224,\n",
       "   2000,\n",
       "   41015,\n",
       "   1572,\n",
       "   8964,\n",
       "   18078,\n",
       "   2105,\n",
       "   30502,\n",
       "   1697,\n",
       "   58896,\n",
       "   1697,\n",
       "   11241,\n",
       "   976,\n",
       "   12857,\n",
       "   328,\n",
       "   290,\n",
       "   46220,\n",
       "   31186,\n",
       "   1218,\n",
       "   42326,\n",
       "   869,\n",
       "   306,\n",
       "   261,\n",
       "   17470,\n",
       "   10702,\n",
       "   3474,\n",
       "   1606,\n",
       "   316,\n",
       "   413,\n",
       "   53239,\n",
       "   842,\n",
       "   326,\n",
       "   1815,\n",
       "   8275,\n",
       "   194275,\n",
       "   597,\n",
       "   310,\n",
       "   472,\n",
       "   261,\n",
       "   28675,\n",
       "   2107,\n",
       "   350,\n",
       "   427,\n",
       "   3047,\n",
       "   326,\n",
       "   945,\n",
       "   5178,\n",
       "   56349,\n",
       "   382,\n",
       "   2212,\n",
       "   533,\n",
       "   495,\n",
       "   382,\n",
       "   8982,\n",
       "   11,\n",
       "   2827,\n",
       "   11,\n",
       "   326,\n",
       "   101135,\n",
       "   32676,\n",
       "   30502,\n",
       "   1697,\n",
       "   58896,\n",
       "   1697,\n",
       "   11241,\n",
       "   2886,\n",
       "   2212,\n",
       "   3736,\n",
       "   326,\n",
       "   1899,\n",
       "   32647,\n",
       "   495,\n",
       "   382,\n",
       "   1001,\n",
       "   6462,\n",
       "   316,\n",
       "   4271,\n",
       "   533,\n",
       "   395,\n",
       "   722,\n",
       "   20355,\n",
       "   533,\n",
       "   326,\n",
       "   395,\n",
       "   1039,\n",
       "   3905,\n",
       "   673,\n",
       "   1001,\n",
       "   328,\n",
       "   290,\n",
       "   1636,\n",
       "   3502,\n",
       "   13995,\n",
       "   15929,\n",
       "   6177,\n",
       "   306,\n",
       "   261,\n",
       "   1701,\n",
       "   1058,\n",
       "   30502,\n",
       "   1697,\n",
       "   58896,\n",
       "   1697,\n",
       "   11241,\n",
       "   8256,\n",
       "   17887,\n",
       "   290,\n",
       "   12626,\n",
       "   7042,\n",
       "   326,\n",
       "   3644,\n",
       "   87210,\n",
       "   261,\n",
       "   8058,\n",
       "   533,\n",
       "   581,\n",
       "   1504,\n",
       "   2715,\n",
       "   17103,\n",
       "   581,\n",
       "   2242,\n",
       "   533,\n",
       "   261,\n",
       "   44181,\n",
       "   10325,\n",
       "   33575,\n",
       "   8249,\n",
       "   13],\n",
       "  211,\n",
       "  1)]"
      ]
     },
     "execution_count": 12,
     "metadata": {},
     "output_type": "execute_result"
    }
   ],
   "source": [
    "train_pairs[:2]"
   ]
  },
  {
   "cell_type": "markdown",
   "id": "36c2134f",
   "metadata": {},
   "source": [
    "## Mise en oeuvre de la data sous forme de Mini-Batchs\n",
    "\n",
    "On défini la fonction collate qui permet de définir la façon de réaliser du padding sur nos tensor.\n",
    "\n",
    "On récupère la longueur de la plus longue séquence **max_seq_lenght**.\n",
    "\n",
    "Puis on crée un tensor de dimention `(longueur du batch, max_seq_lenght)` et on rempli le tout avec notre `PAD_ID`.\n",
    "\n",
    "Ensuite on récupère nos séquences de texte tokenisé, puis on remplis chaque ligne du tensor avec avec les tokens de nos séquences.\n",
    "\n",
    "Ainsi un ligne du tensor aura cette allure :\n",
    "\n",
    "`[séquence tokenisé] + [PAD_ID jusqu'à la fin de la ligne]`\n",
    "\n",
    "C'est nécessaire car toutes les séquences n'ont pas la même taille, et le tensor doit être rectangulaire."
   ]
  },
  {
   "cell_type": "code",
   "execution_count": 13,
   "id": "2e25357c",
   "metadata": {},
   "outputs": [],
   "source": [
    "def collate(batch):\n",
    "    token_ids, seq_length, labels = zip(*batch) # three tuples\n",
    "    seq_length = torch.tensor(seq_length)\n",
    "    max_seq_lenght = seq_length.max()\n",
    "    \n",
    "    pad_tensor = torch.full((len(batch), max_seq_lenght), PAD_ID, dtype=torch.long)\n",
    "    for i, seq in enumerate(token_ids):\n",
    "        pad_tensor[i, :len(seq)] = torch.tensor(seq)\n",
    "    \n",
    "    return (pad_tensor.to(DEVICE),\n",
    "            seq_length.to(DEVICE),\n",
    "            torch.tensor(labels, dtype=torch.float32).to(DEVICE))\n"
   ]
  },
  {
   "cell_type": "code",
   "execution_count": 14,
   "id": "3f6de6b6",
   "metadata": {},
   "outputs": [],
   "source": [
    "train_loader = DataLoader(train_pairs, batch_size=BATCH_SIZE, shuffle=True, collate_fn=collate)\n",
    "valid_loader = DataLoader(valid_pairs, batch_size=BATCH_SIZE, shuffle=False, collate_fn=collate)"
   ]
  },
  {
   "cell_type": "code",
   "execution_count": 15,
   "id": "0f1f38a4",
   "metadata": {},
   "outputs": [
    {
     "name": "stdout",
     "output_type": "stream",
     "text": [
      "torch.Size([32, 512]) tensor([512, 229, 145], device='cuda:0') tensor([0., 1., 0.], device='cuda:0')\n"
     ]
    }
   ],
   "source": [
    "x, seq_lenght, y = next(iter(train_loader))\n",
    "print(x.shape, seq_lenght[:3], y[:3])"
   ]
  },
  {
   "cell_type": "markdown",
   "id": "4756fc0f",
   "metadata": {},
   "source": [
    "## Création du modèle à base de l'architecture LSTM"
   ]
  },
  {
   "cell_type": "markdown",
   "id": "89181649",
   "metadata": {},
   "source": [
    "On a utiliser Dropout pour régulariser l'apprentissage étant donné qu'il y avait un peut d'overfitting"
   ]
  },
  {
   "cell_type": "code",
   "execution_count": 16,
   "id": "9a80251a",
   "metadata": {},
   "outputs": [],
   "source": [
    "class SentimentLSTM(nn.Module):\n",
    "    def __init__(self, vocab_size, emb=256, hid=192, bidirectional=True):\n",
    "        super().__init__()\n",
    "        self.num_dir = 2 if bidirectional else 1\n",
    "        self.emb = nn.Embedding(vocab_size, emb, padding_idx=PAD_ID)\n",
    "        self.lstm = nn.LSTM(emb, hid, batch_first=True, bidirectional=bidirectional)\n",
    "        self.drop = nn.Dropout(0.3)\n",
    "        self.fc = nn.Linear(hid * self.num_dir, 1)\n",
    "\n",
    "    def forward(self, x, lengths):\n",
    "        x = self.emb(x)\n",
    "        packed = nn.utils.rnn.pack_padded_sequence(\n",
    "            x, lengths.cpu(), batch_first=True, enforce_sorted=False\n",
    "        )\n",
    "        _, (h, _) = self.lstm(packed)\n",
    "        h = h.transpose(0, 1).contiguous().view(x.size(0), -1)\n",
    "        h = self.drop(h)\n",
    "        return self.fc(h).squeeze(1)\n"
   ]
  },
  {
   "cell_type": "code",
   "execution_count": 17,
   "id": "14b4911f",
   "metadata": {},
   "outputs": [],
   "source": [
    "model = SentimentLSTM(tokenizer.n_vocab).to(DEVICE)"
   ]
  },
  {
   "cell_type": "markdown",
   "id": "0f55e6f2",
   "metadata": {},
   "source": [
    "### On calcul l'ensemble de paramètre du modèle"
   ]
  },
  {
   "cell_type": "code",
   "execution_count": 18,
   "id": "d5353772",
   "metadata": {},
   "outputs": [
    {
     "name": "stdout",
     "output_type": "stream",
     "text": [
      "51,896,449 parameters\n"
     ]
    }
   ],
   "source": [
    "total_params = sum(p.numel() for p in model.parameters())\n",
    "print(f\"{total_params:,} parameters\")"
   ]
  },
  {
   "cell_type": "markdown",
   "id": "d962b7c7",
   "metadata": {},
   "source": [
    "## Définition de notre fonction de pertes et notre optimiseur"
   ]
  },
  {
   "cell_type": "markdown",
   "id": "01519632",
   "metadata": {},
   "source": [
    "On a utiliser weight_decay pour régularisé l'apprentissage étant donné qu'il y avait un peut d'overfitting"
   ]
  },
  {
   "cell_type": "code",
   "execution_count": 19,
   "id": "ee0a415d",
   "metadata": {},
   "outputs": [],
   "source": [
    "loss_fn = nn.BCEWithLogitsLoss()\n",
    "optimizer = torch.optim.Adam(model.parameters(), lr=3e-3, weight_decay=1e-4)"
   ]
  },
  {
   "cell_type": "markdown",
   "id": "58c95cc9",
   "metadata": {},
   "source": [
    "## Phase d'entrainement"
   ]
  },
  {
   "cell_type": "code",
   "execution_count": 20,
   "id": "12062da6",
   "metadata": {},
   "outputs": [
    {
     "data": {
      "application/vnd.jupyter.widget-view+json": {
       "model_id": "442a6a155f834c05a3d517f733106ce1",
       "version_major": 2,
       "version_minor": 0
      },
      "text/plain": [
       "  0%|          | 0/5 [00:00<?, ?it/s]"
      ]
     },
     "metadata": {},
     "output_type": "display_data"
    },
    {
     "name": "stdout",
     "output_type": "stream",
     "text": [
      "Epoch: 0\n",
      "---------\n",
      "Train loss: 0.61301 | Train accuracy: 64.96%\n",
      "Test loss: 0.41127 | Test accuracy: 82.91%\n",
      "\n",
      "Epoch: 1\n",
      "---------\n",
      "Train loss: 0.34282 | Train accuracy: 85.81%\n",
      "Test loss: 0.28646 | Test accuracy: 88.49%\n",
      "\n",
      "Epoch: 2\n",
      "---------\n",
      "Train loss: 0.25996 | Train accuracy: 89.56%\n",
      "Test loss: 0.27640 | Test accuracy: 89.16%\n",
      "\n",
      "Epoch: 3\n",
      "---------\n",
      "Train loss: 0.22456 | Train accuracy: 91.31%\n",
      "Test loss: 0.25684 | Test accuracy: 90.03%\n",
      "\n",
      "Epoch: 4\n",
      "---------\n",
      "Train loss: 0.19661 | Train accuracy: 92.59%\n",
      "Test loss: 0.30426 | Test accuracy: 88.29%\n",
      "\n"
     ]
    }
   ],
   "source": [
    "epochs = 5\n",
    "train_loss_array = []\n",
    "train_accuracy_array = []\n",
    "valid_loss_array = []\n",
    "valid_accuracy_array = []\n",
    "\n",
    "for epoch in tqdm(range(epochs)):\n",
    "    print(f\"Epoch: {epoch}\\n---------\")\n",
    "    train_loss, train_acc = train_step(dataloader=train_loader, \n",
    "        model=model, \n",
    "        loss_fn=loss_fn,\n",
    "        optimizer=optimizer,\n",
    "        accuracy_fn=accuracy_fn,\n",
    "        device=DEVICE\n",
    "    )\n",
    "    train_loss_array.append(train_loss.detach().cpu().numpy())\n",
    "    train_accuracy_array.append(train_acc)\n",
    "\n",
    "    valid_loss, valid_acc = test_step(dataloader=valid_loader,\n",
    "        model=model,\n",
    "        loss_fn=loss_fn,\n",
    "        accuracy_fn=accuracy_fn,\n",
    "        device=DEVICE\n",
    "    )\n",
    "    valid_loss_array.append(valid_loss.detach().cpu().numpy())\n",
    "    valid_accuracy_array.append(valid_acc)\n",
    "\n"
   ]
  },
  {
   "cell_type": "code",
   "execution_count": 21,
   "id": "2a325b04",
   "metadata": {},
   "outputs": [
    {
     "data": {
      "image/png": "[encoded data removed]",
      "text/plain": [
       "<Figure size 640x480 with 1 Axes>"
      ]
     },
     "metadata": {},
     "output_type": "display_data"
    }
   ],
   "source": [
    "plot_training_data(\"Loss\", train_loss_array, valid_loss_array)"
   ]
  },
  {
   "cell_type": "code",
   "execution_count": 22,
   "id": "eb77d6a9",
   "metadata": {},
   "outputs": [
    {
     "data": {
      "image/png": "[encoded data removed]",
      "text/plain": [
       "<Figure size 640x480 with 1 Axes>"
      ]
     },
     "metadata": {},
     "output_type": "display_data"
    }
   ],
   "source": [
    "plot_training_data(\"Accuracy\", train_accuracy_array, valid_accuracy_array)"
   ]
  },
  {
   "cell_type": "markdown",
   "id": "a78999ba",
   "metadata": {},
   "source": [
    "## On sauvegarde nos poids"
   ]
  },
  {
   "cell_type": "code",
   "execution_count": 23,
   "id": "b7e6d050",
   "metadata": {},
   "outputs": [],
   "source": [
    "torch.save(model.state_dict(), \"lstm.pt\")"
   ]
  },
  {
   "cell_type": "markdown",
   "id": "19c9cdad",
   "metadata": {},
   "source": [
    "## Utilisation de notre modèle pour faire des prédictions"
   ]
  },
  {
   "cell_type": "code",
   "execution_count": 24,
   "id": "25c6e37c",
   "metadata": {},
   "outputs": [],
   "source": [
    "def predict_sentiment(text, model_path=\"lstm.pt\", max_length=MAX_LENGTH, threshold=0.5):\n",
    "    # encode & pad\n",
    "    token_ids = tokenizer.encode(text)[:max_length]\n",
    "    seq_lengths = torch.tensor([len(token_ids)])\n",
    "    padded_ids = torch.tensor(token_ids + [PAD_ID] * (max_length - len(token_ids))).unsqueeze(0)\n",
    "    padded_ids, seq_lengths = padded_ids.to(DEVICE), seq_lengths.to(DEVICE)\n",
    "\n",
    "    # reload model (fresh instance → load weights)\n",
    "    model = SentimentLSTM(tokenizer.n_vocab).to(DEVICE)\n",
    "    model.load_state_dict(torch.load(model_path, map_location=DEVICE))\n",
    "\n",
    "    model.eval()\n",
    "    with torch.inference_mode():\n",
    "        logit = model(padded_ids, seq_lengths)\n",
    "        prob = torch.sigmoid(logit).item()\n",
    "\n",
    "    label = \"👍 positive\" if prob >= threshold else \"👎 negative\"\n",
    "    return label, round(prob, 2)"
   ]
  },
  {
   "cell_type": "code",
   "execution_count": 25,
   "id": "49e4fae7",
   "metadata": {},
   "outputs": [
    {
     "data": {
      "text/plain": [
       "('👎 negative', 0.11)"
      ]
     },
     "execution_count": 25,
     "metadata": {},
     "output_type": "execute_result"
    }
   ],
   "source": [
    "predict_sentiment(\"That plot twist slapped harder than my rent.\")"
   ]
  },
  {
   "cell_type": "code",
   "execution_count": 26,
   "id": "81b70d28",
   "metadata": {},
   "outputs": [
    {
     "data": {
      "text/plain": [
       "('👎 negative', 0.12)"
      ]
     },
     "execution_count": 26,
     "metadata": {},
     "output_type": "execute_result"
    }
   ],
   "source": [
    "predict_sentiment(\"I’d rather eat a keyboard than rewatch this.\")"
   ]
  },
  {
   "cell_type": "code",
   "execution_count": 27,
   "id": "e74f5826",
   "metadata": {},
   "outputs": [
    {
     "data": {
      "text/plain": [
       "('👍 positive', 0.96)"
      ]
     },
     "execution_count": 27,
     "metadata": {},
     "output_type": "execute_result"
    }
   ],
   "source": [
    "predict_sentiment(\"It is the best movie I ever seen !\")"
   ]
  },
  {
   "cell_type": "code",
   "execution_count": 28,
   "id": "a88ed974",
   "metadata": {},
   "outputs": [
    {
     "data": {
      "text/plain": [
       "('👍 positive', 0.94)"
      ]
     },
     "execution_count": 28,
     "metadata": {},
     "output_type": "execute_result"
    }
   ],
   "source": [
    "predict_sentiment(\"The story was basic, and the direction academic, but it was still good entertainment.\")"
   ]
  },
  {
   "cell_type": "code",
   "execution_count": 29,
   "id": "f5dcf02c",
   "metadata": {},
   "outputs": [
    {
     "data": {
      "text/plain": [
       "('👍 positive', 0.71)"
      ]
     },
     "execution_count": 29,
     "metadata": {},
     "output_type": "execute_result"
    }
   ],
   "source": [
    "predict_sentiment(\"Despite good photography, it is not the film of the century.\")"
   ]
  },
  {
   "cell_type": "markdown",
   "id": "a8944e63",
   "metadata": {},
   "source": [
    "## Evaluation final avec les données de test"
   ]
  },
  {
   "cell_type": "code",
   "execution_count": 30,
   "id": "92f9b654",
   "metadata": {},
   "outputs": [
    {
     "name": "stdout",
     "output_type": "stream",
     "text": [
      "Test loss: 0.30702 | Test accuracy: 88.04%\n",
      "\n",
      "\n",
      "IMDb official test | loss 0.3070 | acc 88.04%\n"
     ]
    }
   ],
   "source": [
    "# build (token_ids, length, label) triples\n",
    "test_text, test_label = imdb[\"test\"][\"text\"], imdb[\"test\"][\"label\"]\n",
    "test_pairs = [(encode(sequence)) + (label,) for sequence, label in zip(test_text, test_label)]\n",
    "\n",
    "# loader (same batch size / collate)\n",
    "test_loader = DataLoader(test_pairs, batch_size=32, shuffle=False, collate_fn=collate)\n",
    "\n",
    "# evaluate\n",
    "test_loss, test_acc = test_step(\n",
    "    model=model,\n",
    "    dataloader=test_loader,\n",
    "    loss_fn=loss_fn,\n",
    "    accuracy_fn=accuracy_fn,\n",
    "    device=DEVICE\n",
    ")\n",
    "\n",
    "print(f\"\\nIMDb official test | loss {test_loss:.4f} | acc {test_acc:.2f}%\")\n"
   ]
  },
  {
   "cell_type": "code",
   "execution_count": null,
   "id": "07196899",
   "metadata": {},
   "outputs": [],
   "source": []
  }
 ],
 "metadata": {
  "kernelspec": {
   "display_name": "base",
   "language": "python",
   "name": "python3"
  },
  "language_info": {
   "codemirror_mode": {
    "name": "ipython",
    "version": 3
   },
   "file_extension": ".py",
   "mimetype": "text/x-python",
   "name": "python",
   "nbconvert_exporter": "python",
   "pygments_lexer": "ipython3",
   "version": "3.12.7"
  }
 },
 "nbformat": 4,
 "nbformat_minor": 5
}
