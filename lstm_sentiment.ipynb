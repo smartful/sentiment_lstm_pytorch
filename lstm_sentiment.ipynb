{
 "cells": [
  {
   "cell_type": "markdown",
   "id": "c8b28a23",
   "metadata": {},
   "source": [
    "# Analyse de sentiments binaires avec un LSTM implémenté en Pytorch"
   ]
  },
  {
   "cell_type": "code",
   "execution_count": 1,
   "id": "9e7bde3c",
   "metadata": {},
   "outputs": [
    {
     "name": "stdout",
     "output_type": "stream",
     "text": [
      "PyTorch version : 2.7.0+cu118\n"
     ]
    }
   ],
   "source": [
    "import torch\n",
    "import torch.nn as nn\n",
    "from torch.utils.data import DataLoader\n",
    "from datasets import load_dataset\n",
    "import tiktoken\n",
    "from tqdm.auto import tqdm\n",
    "from my_helper_functions import accuracy_fn, train_step, test_step, plot_training_data\n",
    "\n",
    "print(f\"PyTorch version : {torch.__version__}\")"
   ]
  },
  {
   "cell_type": "markdown",
   "id": "ad27b973",
   "metadata": {},
   "source": [
    "## Constantes"
   ]
  },
  {
   "cell_type": "markdown",
   "id": "8f7363a1",
   "metadata": {},
   "source": [
    "### On utilise la carte graphique (le GPU)"
   ]
  },
  {
   "cell_type": "code",
   "execution_count": null,
   "id": "d17843a5",
   "metadata": {},
   "outputs": [
    {
     "name": "stdout",
     "output_type": "stream",
     "text": [
      "cuda\n"
     ]
    }
   ],
   "source": [
    "DEVICE = torch.device(\"cuda\") if torch.cuda.is_available() else torch.device(\"cpu\")\n",
    "print(DEVICE)"
   ]
  },
  {
   "cell_type": "code",
   "execution_count": null,
   "id": "9d6abddd",
   "metadata": {},
   "outputs": [],
   "source": [
    "MAX_LENGTH = 512\n",
    "RANDOM_STATE = 42\n",
    "BATCH_SIZE = 32"
   ]
  },
  {
   "cell_type": "markdown",
   "id": "9b60cfd9",
   "metadata": {},
   "source": [
    "## Obtenir les data de IMDB"
   ]
  },
  {
   "cell_type": "code",
   "execution_count": 3,
   "id": "e41cdbbb",
   "metadata": {},
   "outputs": [
    {
     "name": "stdout",
     "output_type": "stream",
     "text": [
      "{'train': (25000, 2), 'test': (25000, 2), 'unsupervised': (50000, 2)}\n"
     ]
    }
   ],
   "source": [
    "imdb = load_dataset(\"imdb\")\n",
    "print(imdb.shape)"
   ]
  },
  {
   "cell_type": "code",
   "execution_count": 4,
   "id": "3672b493",
   "metadata": {},
   "outputs": [
    {
     "data": {
      "text/plain": [
       "(['I rented I AM CURIOUS-YELLOW from my video store because of all the controversy that surrounded it when it was first released in 1967. I also heard that at first it was seized by U.S. customs if it ever tried to enter this country, therefore being a fan of films considered \"controversial\" I really had to see this for myself.<br /><br />The plot is centered around a young Swedish drama student named Lena who wants to learn everything she can about life. In particular she wants to focus her attentions to making some sort of documentary on what the average Swede thought about certain political issues such as the Vietnam War and race issues in the United States. In between asking politicians and ordinary denizens of Stockholm about their opinions on politics, she has sex with her drama teacher, classmates, and married men.<br /><br />What kills me about I AM CURIOUS-YELLOW is that 40 years ago, this was considered pornographic. Really, the sex and nudity scenes are few and far between, even then it\\'s not shot like some cheaply made porno. While my countrymen mind find it shocking, in reality sex and nudity are a major staple in Swedish cinema. Even Ingmar Bergman, arguably their answer to good old boy John Ford, had sex scenes in his films.<br /><br />I do commend the filmmakers for the fact that any sex shown in the film is shown for artistic purposes rather than just to shock people and make money to be shown in pornographic theaters in America. I AM CURIOUS-YELLOW is a good film for anyone wanting to study the meat and potatoes (no pun intended) of Swedish cinema. But really, this film doesn\\'t have much of a plot.',\n",
       "  '\"I Am Curious: Yellow\" is a risible and pretentious steaming pile. It doesn\\'t matter what one\\'s political views are because this film can hardly be taken seriously on any level. As for the claim that frontal male nudity is an automatic NC-17, that isn\\'t true. I\\'ve seen R-rated films with male nudity. Granted, they only offer some fleeting views, but where are the R-rated films with gaping vulvas and flapping labia? Nowhere, because they don\\'t exist. The same goes for those crappy cable shows: schlongs swinging in the breeze but not a clitoris in sight. And those pretentious indie movies like The Brown Bunny, in which we\\'re treated to the site of Vincent Gallo\\'s throbbing johnson, but not a trace of pink visible on Chloe Sevigny. Before crying (or implying) \"double-standard\" in matters of nudity, the mentally obtuse should take into account one unavoidably obvious anatomical difference between men and women: there are no genitals on display when actresses appears nude, and the same cannot be said for a man. In fact, you generally won\\'t see female genitals in an American film in anything short of porn or explicit erotica. This alleged double-standard is less a double standard than an admittedly depressing ability to come to terms culturally with the insides of women\\'s bodies.'],\n",
       " [0, 0])"
      ]
     },
     "execution_count": 4,
     "metadata": {},
     "output_type": "execute_result"
    }
   ],
   "source": [
    "text, label = imdb[\"train\"][\"text\"], imdb[\"train\"][\"label\"]\n",
    "text[:2], label[:2]"
   ]
  },
  {
   "cell_type": "code",
   "execution_count": null,
   "id": "e550cb9c",
   "metadata": {},
   "outputs": [
    {
     "name": "stdout",
     "output_type": "stream",
     "text": [
      "train : 22500 | valid : 2500\n"
     ]
    }
   ],
   "source": [
    "train_split = imdb[\"train\"].train_test_split(test_size=0.1, seed=RANDOM_STATE)\n",
    "train_data = list(zip(train_split[\"train\"][\"text\"], train_split[\"train\"][\"label\"]))\n",
    "valid_data = list(zip(train_split[\"test\"][\"text\"],  train_split[\"test\"][\"label\"]))\n",
    "print(f\"train : {len(train_data)} | valid : {len(valid_data)}\")\n"
   ]
  },
  {
   "cell_type": "code",
   "execution_count": 6,
   "id": "934eb410",
   "metadata": {},
   "outputs": [
    {
     "data": {
      "text/plain": [
       "[(\"With these people faking so many shots, using old footage, and gassing animals to get them out, not to mention that some of the scenes were filmed on a created set with actors, what's to believe? Old film of countries is nice, but the animal abuse and degradation of natives is painful to watch in these films. I know, racism is OK in these old films, but there is more to that to make this couple lose credibility. Portrayed as fliers, they never flew their planes, Martin Johnson was an ex-vaudevillian, used friends like Jack London for financial gain while stiffing them of royalties, denying his wife's apparent depression, using her as a cute prop, all this makes these films unbearable. They were by no means the first to travel to these lands, or the first to write about them. He was OK as a filmmaker and photographer, but that's about it.\",\n",
       "  0),\n",
       " (\"I don't know the stars, or modern Chinese teenage music - but I do know a thoroughly entertaining movie when I see one.<br /><br />Kung Fu Dunk is pure Hollywood in its values - it's played for laughs, for love, and is a great blend of Kung Fu and basketball.<br /><br />Everybody looks like they had a lot of fun making this - the production values are excellent - and modern China looks glossier than Los Angeles here.<br /><br />The plot of the abandoned orphan who grows up in a kung fu school only to be kicked out and then discover superstardom as a basketball play (and love and more etc;) is great - this is fresh, fun, and immensely entertaining.<br /><br />With great action and good dialogue this is one simply to enjoy - for all ages - and for our money was one of the best family movies we're seen in a long time.<br /><br />Please ignore the negative reviews and give Dunk a chance - we were really glad we did - a GOOD sports comedy movie.\",\n",
       "  1)]"
      ]
     },
     "execution_count": 6,
     "metadata": {},
     "output_type": "execute_result"
    }
   ],
   "source": [
    "train_data[:2]"
   ]
  },
  {
   "cell_type": "code",
   "execution_count": 7,
   "id": "d954f77e",
   "metadata": {},
   "outputs": [],
   "source": [
    "tokenizer = tiktoken.get_encoding(\"o200k_base\")\n",
    "SPECIAL_EOT = \"<|endoftext|>\"\n",
    "PAD_ID = tokenizer.encode(SPECIAL_EOT, allowed_special={SPECIAL_EOT})[0]"
   ]
  },
  {
   "cell_type": "code",
   "execution_count": null,
   "id": "a5c959ce",
   "metadata": {},
   "outputs": [],
   "source": [
    "def encode(text):\n",
    "    token_ids = tokenizer.encode(text)[:MAX_LENGTH]\n",
    "    return token_ids, len(token_ids)"
   ]
  },
  {
   "cell_type": "code",
   "execution_count": 9,
   "id": "b9fd64c1",
   "metadata": {},
   "outputs": [],
   "source": [
    "train_pairs = [(encode(sequence)) + (label,) for sequence, label in train_data]  # (token_ids, length, label)\n",
    "valid_pairs = [(encode(sequence)) + (label,) for sequence, label in valid_data]\n"
   ]
  },
  {
   "cell_type": "code",
   "execution_count": 10,
   "id": "2e25357c",
   "metadata": {},
   "outputs": [],
   "source": [
    "def collate(batch):\n",
    "    token_ids, seq_length, labels = zip(*batch) # three tuples\n",
    "    seq_length = torch.tensor(seq_length)\n",
    "    max_seq_lenght = seq_length.max()\n",
    "    \n",
    "    pad_tensor = torch.full((len(batch), max_seq_lenght), PAD_ID, dtype=torch.long)\n",
    "    for i, seq in enumerate(token_ids):\n",
    "        pad_tensor[i, :len(seq)] = torch.tensor(seq)\n",
    "    \n",
    "    return (pad_tensor.to(DEVICE),\n",
    "            seq_length.to(DEVICE),\n",
    "            torch.tensor(labels, dtype=torch.float32).to(DEVICE))\n"
   ]
  },
  {
   "cell_type": "code",
   "execution_count": null,
   "id": "3f6de6b6",
   "metadata": {},
   "outputs": [],
   "source": [
    "train_loader = DataLoader(train_pairs, batch_size=BATCH_SIZE, shuffle=True, collate_fn=collate)\n",
    "valid_loader = DataLoader(valid_pairs, batch_size=BATCH_SIZE, shuffle=False, collate_fn=collate)"
   ]
  },
  {
   "cell_type": "code",
   "execution_count": 12,
   "id": "0f1f38a4",
   "metadata": {},
   "outputs": [
    {
     "name": "stdout",
     "output_type": "stream",
     "text": [
      "torch.Size([32, 512]) tensor([ 52, 412, 143], device='cuda:0') tensor([0., 0., 1.], device='cuda:0')\n"
     ]
    }
   ],
   "source": [
    "x, seq_lenght, y = next(iter(train_loader))\n",
    "print(x.shape, seq_lenght[:3], y[:3])"
   ]
  },
  {
   "cell_type": "code",
   "execution_count": 13,
   "id": "9a80251a",
   "metadata": {},
   "outputs": [],
   "source": [
    "class SentimentLSTM(nn.Module):\n",
    "    def __init__(self, vocab_size, emb=256, hid=192, bidirectional=True):\n",
    "        super().__init__()\n",
    "        self.num_dir = 2 if bidirectional else 1\n",
    "        self.emb = nn.Embedding(vocab_size, emb, padding_idx=PAD_ID)\n",
    "        self.lstm = nn.LSTM(emb, hid, batch_first=True, bidirectional=bidirectional)\n",
    "        self.drop = nn.Dropout(0.3)\n",
    "        self.fc = nn.Linear(hid * self.num_dir, 1)\n",
    "\n",
    "    def forward(self, x, lengths):\n",
    "        x = self.emb(x)\n",
    "        packed = nn.utils.rnn.pack_padded_sequence(\n",
    "            x, lengths.cpu(), batch_first=True, enforce_sorted=False\n",
    "        )\n",
    "        _, (h, _) = self.lstm(packed)\n",
    "        h = h.transpose(0, 1).contiguous().view(x.size(0), -1)\n",
    "        h = self.drop(h)\n",
    "        return self.fc(h).squeeze(1)\n"
   ]
  },
  {
   "cell_type": "code",
   "execution_count": 14,
   "id": "14b4911f",
   "metadata": {},
   "outputs": [],
   "source": [
    "model = SentimentLSTM(tokenizer.n_vocab).to(DEVICE)"
   ]
  },
  {
   "cell_type": "code",
   "execution_count": 15,
   "id": "d5353772",
   "metadata": {},
   "outputs": [
    {
     "name": "stdout",
     "output_type": "stream",
     "text": [
      "51,896,449 parameters\n"
     ]
    }
   ],
   "source": [
    "total_params = sum(p.numel() for p in model.parameters())\n",
    "print(f\"{total_params:,} parameters\")"
   ]
  },
  {
   "cell_type": "code",
   "execution_count": 16,
   "id": "ee0a415d",
   "metadata": {},
   "outputs": [],
   "source": [
    "loss_fn = nn.BCEWithLogitsLoss()\n",
    "optimizer = torch.optim.Adam(model.parameters(), lr=3e-3, weight_decay=1e-4)"
   ]
  },
  {
   "cell_type": "code",
   "execution_count": null,
   "id": "12062da6",
   "metadata": {},
   "outputs": [
    {
     "data": {
      "application/vnd.jupyter.widget-view+json": {
       "model_id": "5adb70ba2e8543d69baf344e87fdf93c",
       "version_major": 2,
       "version_minor": 0
      },
      "text/plain": [
       "  0%|          | 0/5 [00:00<?, ?it/s]"
      ]
     },
     "metadata": {},
     "output_type": "display_data"
    },
    {
     "name": "stdout",
     "output_type": "stream",
     "text": [
      "Epoch: 0\n",
      "---------\n",
      "Train loss: 0.61502 | Train accuracy: 64.36%\n",
      "Test loss: 0.66643 | Test accuracy: 60.72%\n",
      "\n",
      "Epoch: 1\n",
      "---------\n",
      "Train loss: 0.41723 | Train accuracy: 80.96%\n",
      "Test loss: 0.31125 | Test accuracy: 87.03%\n",
      "\n",
      "Epoch: 2\n",
      "---------\n",
      "Train loss: 0.29455 | Train accuracy: 88.16%\n",
      "Test loss: 0.28256 | Test accuracy: 88.65%\n",
      "\n",
      "Epoch: 3\n",
      "---------\n",
      "Train loss: 0.24983 | Train accuracy: 90.37%\n",
      "Test loss: 0.26848 | Test accuracy: 88.29%\n",
      "\n",
      "Epoch: 4\n",
      "---------\n",
      "Train loss: 0.21217 | Train accuracy: 91.82%\n",
      "Test loss: 0.30153 | Test accuracy: 88.77%\n",
      "\n"
     ]
    }
   ],
   "source": [
    "epochs = 5\n",
    "train_loss_array = []\n",
    "train_accuracy_array = []\n",
    "valid_loss_array = []\n",
    "valid_accuracy_array = []\n",
    "\n",
    "for epoch in tqdm(range(epochs)):\n",
    "    print(f\"Epoch: {epoch}\\n---------\")\n",
    "    train_loss, train_acc = train_step(dataloader=train_loader, \n",
    "        model=model, \n",
    "        loss_fn=loss_fn,\n",
    "        optimizer=optimizer,\n",
    "        accuracy_fn=accuracy_fn,\n",
    "        device=DEVICE\n",
    "    )\n",
    "    train_loss_array.append(train_loss.detach().cpu().numpy())\n",
    "    train_accuracy_array.append(train_acc)\n",
    "\n",
    "    valid_loss, valid_acc = test_step(dataloader=valid_loader,\n",
    "        model=model,\n",
    "        loss_fn=loss_fn,\n",
    "        accuracy_fn=accuracy_fn,\n",
    "        device=DEVICE\n",
    "    )\n",
    "    valid_loss_array.append(valid_loss.detach().cpu().numpy())\n",
    "    valid_accuracy_array.append(valid_acc)\n",
    "\n"
   ]
  },
  {
   "cell_type": "code",
   "execution_count": 18,
   "id": "2a325b04",
   "metadata": {},
   "outputs": [
    {
     "data": {
      "image/png": "[encoded data removed]",
      "text/plain": [
       "<Figure size 640x480 with 1 Axes>"
      ]
     },
     "metadata": {},
     "output_type": "display_data"
    }
   ],
   "source": [
    "plot_training_data(\"Loss\", train_loss_array, valid_loss_array)"
   ]
  },
  {
   "cell_type": "code",
   "execution_count": 19,
   "id": "eb77d6a9",
   "metadata": {},
   "outputs": [
    {
     "data": {
      "image/png": "[encoded data removed]",
      "text/plain": [
       "<Figure size 640x480 with 1 Axes>"
      ]
     },
     "metadata": {},
     "output_type": "display_data"
    }
   ],
   "source": [
    "plot_training_data(\"Accuracy\", train_accuracy_array, valid_accuracy_array)"
   ]
  },
  {
   "cell_type": "code",
   "execution_count": 20,
   "id": "b7e6d050",
   "metadata": {},
   "outputs": [],
   "source": [
    "torch.save(model.state_dict(), \"lstm.pt\")"
   ]
  },
  {
   "cell_type": "code",
   "execution_count": null,
   "id": "25c6e37c",
   "metadata": {},
   "outputs": [],
   "source": [
    "def predict_sentiment(text, model_path=\"lstm.pt\", max_len=MAX_LENGTH, threshold=0.5):\n",
    "    # encode & pad\n",
    "    ids = tokenizer.encode(text)[:max_len]\n",
    "    seq_lengths = torch.tensor([len(ids)])\n",
    "    padded_ids = torch.tensor(ids + [PAD_ID] * (max_len - len(ids))).unsqueeze(0)\n",
    "    padded_ids, seq_lengths = padded_ids.to(DEVICE), seq_lengths.to(DEVICE)\n",
    "\n",
    "    # reload model (fresh instance → load weights)\n",
    "    model = SentimentLSTM(tokenizer.n_vocab).to(DEVICE)\n",
    "    model.load_state_dict(torch.load(model_path, map_location=DEVICE))\n",
    "\n",
    "    # forward pass (no_grad = faster / lighter)\n",
    "    model.eval()\n",
    "    with torch.inference_mode():\n",
    "        logit = model(padded_ids, seq_lengths)\n",
    "        prob = torch.sigmoid(logit).item()\n",
    "\n",
    "    label = \"👍 positive\" if prob >= threshold else \"👎 negative\"\n",
    "    return label, round(prob, 2)"
   ]
  },
  {
   "cell_type": "code",
   "execution_count": 22,
   "id": "49e4fae7",
   "metadata": {},
   "outputs": [
    {
     "data": {
      "text/plain": [
       "('👎 negative', 0.33)"
      ]
     },
     "execution_count": 22,
     "metadata": {},
     "output_type": "execute_result"
    }
   ],
   "source": [
    "predict_sentiment(\"That plot twist slapped harder than my rent.\")"
   ]
  },
  {
   "cell_type": "code",
   "execution_count": 23,
   "id": "81b70d28",
   "metadata": {},
   "outputs": [
    {
     "data": {
      "text/plain": [
       "('👎 negative', 0.11)"
      ]
     },
     "execution_count": 23,
     "metadata": {},
     "output_type": "execute_result"
    }
   ],
   "source": [
    "predict_sentiment(\"I’d rather eat a keyboard than rewatch this.\")"
   ]
  },
  {
   "cell_type": "code",
   "execution_count": 24,
   "id": "e74f5826",
   "metadata": {},
   "outputs": [
    {
     "data": {
      "text/plain": [
       "('👍 positive', 0.99)"
      ]
     },
     "execution_count": 24,
     "metadata": {},
     "output_type": "execute_result"
    }
   ],
   "source": [
    "predict_sentiment(\"It is the best movie I ever seen !\")"
   ]
  },
  {
   "cell_type": "code",
   "execution_count": 25,
   "id": "a88ed974",
   "metadata": {},
   "outputs": [
    {
     "data": {
      "text/plain": [
       "('👍 positive', 0.98)"
      ]
     },
     "execution_count": 25,
     "metadata": {},
     "output_type": "execute_result"
    }
   ],
   "source": [
    "predict_sentiment(\"The story was basic, and the direction academic, but it was still good entertainment.\")"
   ]
  },
  {
   "cell_type": "code",
   "execution_count": 26,
   "id": "f5dcf02c",
   "metadata": {},
   "outputs": [
    {
     "data": {
      "text/plain": [
       "('👍 positive', 0.86)"
      ]
     },
     "execution_count": 26,
     "metadata": {},
     "output_type": "execute_result"
    }
   ],
   "source": [
    "predict_sentiment(\"Despite good photography, it is not the film of the century.\")"
   ]
  },
  {
   "cell_type": "markdown",
   "id": "a8944e63",
   "metadata": {},
   "source": [
    "## Evaluation final avec les données de test"
   ]
  },
  {
   "cell_type": "code",
   "execution_count": 28,
   "id": "92f9b654",
   "metadata": {},
   "outputs": [
    {
     "name": "stdout",
     "output_type": "stream",
     "text": [
      "Test loss: 0.31340 | Test accuracy: 88.06%\n",
      "\n",
      "\n",
      "IMDb official test | loss 0.3134 | acc 88.06%\n"
     ]
    }
   ],
   "source": [
    "# build (token_ids, length, label) triples\n",
    "test_text, test_label = imdb[\"test\"][\"text\"], imdb[\"test\"][\"label\"]\n",
    "test_pairs = [(encode(sequence)) + (label,) for sequence, label in zip(test_text, test_label)]\n",
    "\n",
    "# loader (same batch size / collate)\n",
    "test_loader = DataLoader(test_pairs, batch_size=32, shuffle=False, collate_fn=collate)\n",
    "\n",
    "# evaluate\n",
    "test_loss, test_acc = test_step(\n",
    "    model=model,\n",
    "    dataloader=test_loader,\n",
    "    loss_fn=loss_fn,\n",
    "    accuracy_fn=accuracy_fn,\n",
    "    device=DEVICE\n",
    ")\n",
    "\n",
    "print(f\"\\nIMDb official test | loss {test_loss:.4f} | acc {test_acc:.2f}%\")\n"
   ]
  },
  {
   "cell_type": "code",
   "execution_count": null,
   "id": "07196899",
   "metadata": {},
   "outputs": [],
   "source": []
  }
 ],
 "metadata": {
  "kernelspec": {
   "display_name": "base",
   "language": "python",
   "name": "python3"
  },
  "language_info": {
   "codemirror_mode": {
    "name": "ipython",
    "version": 3
   },
   "file_extension": ".py",
   "mimetype": "text/x-python",
   "name": "python",
   "nbconvert_exporter": "python",
   "pygments_lexer": "ipython3",
   "version": "3.12.7"
  }
 },
 "nbformat": 4,
 "nbformat_minor": 5
}
